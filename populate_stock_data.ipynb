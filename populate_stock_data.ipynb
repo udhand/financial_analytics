{
 "cells": [
  {
   "cell_type": "code",
   "execution_count": 37,
   "id": "cce83af3",
   "metadata": {},
   "outputs": [
    {
     "data": {
      "text/plain": [
       "1    AAPL\n",
       "2     IBM\n",
       "3     MCD\n",
       "4     PFE\n",
       "5     WMT\n",
       "Name: Unnamed: 1, dtype: object"
      ]
     },
     "execution_count": 37,
     "metadata": {},
     "output_type": "execute_result"
    }
   ],
   "source": [
    "import pandas as pd\n",
    "import warnings\n",
    "warnings.filterwarnings(\"ignore\")\n",
    " \n",
    "df = pd.read_excel('MVO Assignment.xlsx')\n",
    "tickers = df['Unnamed: 1'].dropna()\n",
    "param = list(df['Unnamed: 4'].dropna())\n",
    "\n",
    "tickers\n"
   ]
  },
  {
   "cell_type": "code",
   "execution_count": 42,
   "id": "2009ea98",
   "metadata": {},
   "outputs": [
    {
     "name": "stdout",
     "output_type": "stream",
     "text": [
      "[0.022379782124814528, 0.00699766849504804, 0.013322043938443261, 0.011170447555653495, 0.013658635741694989]\n",
      "            AAPL_de_meaned  IBM_de_meaned  MCD_de_meaned  PFE_de_meaned  \\\n",
      "Date                                                                      \n",
      "2015-12-01       -0.128800      -0.010649       0.029655      -0.018172   \n",
      "2016-01-01       -0.097622      -0.100225       0.034418      -0.066623   \n",
      "2016-02-01       -0.029057       0.043006      -0.066562      -0.038064   \n",
      "2016-03-01        0.110947       0.160651       0.067249      -0.002138   \n",
      "2016-04-01       -0.162301      -0.043379      -0.006877       0.092406   \n",
      "...                    ...            ...            ...            ...   \n",
      "2022-08-01       -0.054931      -0.024889      -0.055430      -0.108756   \n",
      "2022-09-01       -0.142136      -0.070393      -0.093697      -0.043671   \n",
      "2022-10-01        0.087172       0.156961       0.168354       0.052586   \n",
      "2022-11-01       -0.057009       0.069725      -0.012845       0.065736   \n",
      "2022-12-01       -0.143196      -0.049511      -0.041827       0.019733   \n",
      "\n",
      "            WMT_de_meaned  \n",
      "Date                       \n",
      "2015-12-01       0.028150  \n",
      "2016-01-01       0.077953  \n",
      "2016-02-01      -0.013960  \n",
      "2016-03-01       0.018750  \n",
      "2016-04-01      -0.030084  \n",
      "...                   ...  \n",
      "2022-08-01      -0.009872  \n",
      "2022-09-01      -0.030899  \n",
      "2022-10-01       0.083720  \n",
      "2022-11-01       0.057233  \n",
      "2022-12-01      -0.083400  \n",
      "\n",
      "[85 rows x 5 columns]\n"
     ]
    }
   ],
   "source": [
    "import yfinance as yf\n",
    "\n",
    "history = pd.DataFrame()\n",
    "\n",
    "for ticker in tickers:\n",
    "    yf_ticker = yf.Ticker(ticker)\n",
    "    #history[ticker] = yf_ticker.history(period=param[0], interval = param[1], auto_adjust = True)['Close']\n",
    "    history[ticker] = yf_ticker.history(interval=param[1], start = '2015-11-01',end='2023-01-01', auto_adjust = True)['Close']\n",
    "\n",
    "    col_shift = ticker + '_shifted'\n",
    "    history[col_shift] = history[ticker].shift(periods = 1,fill_value = 0, axis = 0)\n",
    "\n",
    "    col_ret = ticker + '_returns'\n",
    "    history[col_ret] = (history[ticker] - history[col_shift])/history[col_shift]\n",
    "\n",
    "    history = history.drop(columns=[col_shift, ticker])\n",
    "\n",
    "\n",
    "history = history.tail(-1)\n",
    "mu_vector = []\n",
    "for i,ticker in enumerate(tickers):\n",
    "    col_ret = ticker + '_returns'\n",
    "    mean = history[col_ret].mean()\n",
    "    col_de_mean = ticker + '_de_meaned'\n",
    "    history[col_de_mean] = history[col_ret] - mean\n",
    "    history = history.drop(columns=[col_ret])\n",
    "\n",
    "    mu_vector.append(mean) \n",
    "    \n",
    "history.index = history.index.tz_localize(None)\n",
    "\n",
    "print(mu_vector)\n",
    "print(history)\n",
    "\n"
   ]
  },
  {
   "cell_type": "code",
   "execution_count": 43,
   "id": "6ac6496f",
   "metadata": {},
   "outputs": [
    {
     "data": {
      "text/html": [
       "<div>\n",
       "<style scoped>\n",
       "    .dataframe tbody tr th:only-of-type {\n",
       "        vertical-align: middle;\n",
       "    }\n",
       "\n",
       "    .dataframe tbody tr th {\n",
       "        vertical-align: top;\n",
       "    }\n",
       "\n",
       "    .dataframe thead th {\n",
       "        text-align: right;\n",
       "    }\n",
       "</style>\n",
       "<table border=\"1\" class=\"dataframe\">\n",
       "  <thead>\n",
       "    <tr style=\"text-align: right;\">\n",
       "      <th></th>\n",
       "      <th>0</th>\n",
       "      <th>1</th>\n",
       "      <th>2</th>\n",
       "      <th>3</th>\n",
       "      <th>4</th>\n",
       "    </tr>\n",
       "  </thead>\n",
       "  <tbody>\n",
       "    <tr>\n",
       "      <th>AAPL_de_meaned</th>\n",
       "      <td>0.007576</td>\n",
       "      <td>0.002006</td>\n",
       "      <td>0.001559</td>\n",
       "      <td>0.001370</td>\n",
       "      <td>0.001556</td>\n",
       "    </tr>\n",
       "    <tr>\n",
       "      <th>IBM_de_meaned</th>\n",
       "      <td>0.002006</td>\n",
       "      <td>0.005065</td>\n",
       "      <td>0.001549</td>\n",
       "      <td>0.001740</td>\n",
       "      <td>0.000676</td>\n",
       "    </tr>\n",
       "    <tr>\n",
       "      <th>MCD_de_meaned</th>\n",
       "      <td>0.001559</td>\n",
       "      <td>0.001549</td>\n",
       "      <td>0.002598</td>\n",
       "      <td>0.001050</td>\n",
       "      <td>0.001239</td>\n",
       "    </tr>\n",
       "    <tr>\n",
       "      <th>PFE_de_meaned</th>\n",
       "      <td>0.001370</td>\n",
       "      <td>0.001740</td>\n",
       "      <td>0.001050</td>\n",
       "      <td>0.004428</td>\n",
       "      <td>0.000874</td>\n",
       "    </tr>\n",
       "    <tr>\n",
       "      <th>WMT_de_meaned</th>\n",
       "      <td>0.001556</td>\n",
       "      <td>0.000676</td>\n",
       "      <td>0.001239</td>\n",
       "      <td>0.000874</td>\n",
       "      <td>0.002950</td>\n",
       "    </tr>\n",
       "  </tbody>\n",
       "</table>\n",
       "</div>"
      ],
      "text/plain": [
       "                       0         1         2         3         4\n",
       "AAPL_de_meaned  0.007576  0.002006  0.001559  0.001370  0.001556\n",
       "IBM_de_meaned   0.002006  0.005065  0.001549  0.001740  0.000676\n",
       "MCD_de_meaned   0.001559  0.001549  0.002598  0.001050  0.001239\n",
       "PFE_de_meaned   0.001370  0.001740  0.001050  0.004428  0.000874\n",
       "WMT_de_meaned   0.001556  0.000676  0.001239  0.000874  0.002950"
      ]
     },
     "execution_count": 43,
     "metadata": {},
     "output_type": "execute_result"
    }
   ],
   "source": [
    "import numpy as np\n",
    "\n",
    "# (Epsilon transpose * Epsilon )/ (n-1)\n",
    "covariance = np.matmul(np.transpose(history),history)/(len(history) - 1)\n",
    "\n",
    "covariance"
   ]
  },
  {
   "cell_type": "code",
   "execution_count": 6,
   "id": "a4327079",
   "metadata": {},
   "outputs": [],
   "source": [
    "import openpyxl\n",
    "wb = openpyxl.load_workbook('MVO Assignment.xlsx', data_only=True)\n",
    "sheet = wb['Returns']"
   ]
  },
  {
   "cell_type": "code",
   "execution_count": 7,
   "id": "ff0a7cc2",
   "metadata": {},
   "outputs": [],
   "source": [
    "sheet.delete_cols(1, 100000)\n",
    "sheet.delete_rows(1, 100000)\n",
    "\n",
    "\n",
    "columns = history.columns.values.tolist()\n",
    "sheet.cell(column=1, row=1).value = 'Time'\n",
    "\n",
    "\n",
    "\n",
    "for i, time in enumerate(history.index.values.tolist()):\n",
    "    if i==0:\n",
    "        pass\n",
    "    else:\n",
    "        sheet.cell(column=1, row=i+1).value = pd.to_datetime(time)\n",
    "\n",
    "\n",
    "for i, column in enumerate(columns):\n",
    "    \n",
    "    for j, value in enumerate(history[column].tolist()):\n",
    "        sheet.cell(column=i+2, row=j+1).value = value\n",
    "        \n",
    "for i, column in enumerate(columns):\n",
    "    sheet.cell(column=i+2, row=1).value = column\n",
    "\n",
    "wb.save('MVO Assignment.xlsx')"
   ]
  },
  {
   "cell_type": "code",
   "execution_count": 11,
   "id": "b513f9af",
   "metadata": {},
   "outputs": [
    {
     "name": "stderr",
     "output_type": "stream",
     "text": [
      "/var/folders/hg/kqg69xz568l28vnvcx6x09hh0000gn/T/ipykernel_35751/4165443610.py:4: FutureWarning: Calling a ufunc on non-aligned DataFrames (or DataFrame/Series combination). Currently, the indices are ignored and the result takes the index/columns of the first DataFrame. In the future , the DataFrames/Series will be aligned before applying the ufunc.\n",
      "Convert one of the arguments to a NumPy array (eg 'ufunc(df1, np.asarray(df2)') to keep the current behaviour, or align manually (eg 'df1, df2 = df1.align(df2)') before passing to the ufunc to obtain the future behaviour and silence this warning.\n",
      "  covariance = np.matmul(np.transpose(history.tail(-1)),history.tail(-1))/(len(history.tail(-1)) - 1)\n"
     ]
    }
   ],
   "source": []
  },
  {
   "cell_type": "code",
   "execution_count": null,
   "id": "0d572fd7",
   "metadata": {},
   "outputs": [],
   "source": []
  }
 ],
 "metadata": {
  "kernelspec": {
   "display_name": "Python 3 (ipykernel)",
   "language": "python",
   "name": "python3"
  },
  "language_info": {
   "codemirror_mode": {
    "name": "ipython",
    "version": 3
   },
   "file_extension": ".py",
   "mimetype": "text/x-python",
   "name": "python",
   "nbconvert_exporter": "python",
   "pygments_lexer": "ipython3",
   "version": "3.10.9"
  }
 },
 "nbformat": 4,
 "nbformat_minor": 5
}
