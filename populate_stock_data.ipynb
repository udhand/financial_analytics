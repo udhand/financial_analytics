{
 "cells": [
  {
   "cell_type": "code",
   "execution_count": 205,
   "id": "cce83af3",
   "metadata": {},
   "outputs": [],
   "source": [
    "import pandas as pd\n",
    " \n",
    "df = pd.read_excel('MVO Assignment.xlsx')\n",
    "tickers = df['Unnamed: 1'].dropna()\n",
    "param = list(df['Unnamed: 4'].dropna())\n"
   ]
  },
  {
   "cell_type": "code",
   "execution_count": 206,
   "id": "2009ea98",
   "metadata": {},
   "outputs": [
    {
     "name": "stdout",
     "output_type": "stream",
     "text": [
      "            AAPL_returns  WMT_returns  QQQ_returns  CAT_returns\n",
      "Date                                                           \n",
      "2013-09-01          -inf         -inf         -inf         -inf\n",
      "2013-10-01     -0.096382    -0.037723    -0.052721     0.000480\n",
      "2013-11-01     -0.063842    -0.055505    -0.035511    -0.021983\n",
      "2013-12-01     -0.014792     0.028638    -0.026012    -0.073404\n",
      "2014-01-01      0.107697     0.045435     0.016098    -0.034138\n",
      "...                  ...          ...          ...          ...\n",
      "2023-04-01     -0.028987    -0.028069    -0.006635     0.043873\n",
      "2023-05-01     -0.044613     0.027158    -0.078838     0.054539\n",
      "2023-06-01     -0.095844    -0.074263    -0.061582    -0.195869\n",
      "2023-07-01     -0.012785    -0.017051    -0.040026    -0.077708\n",
      "2023-08-01      0.019700     0.004003     0.024213    -0.089845\n",
      "\n",
      "[120 rows x 4 columns]\n"
     ]
    }
   ],
   "source": [
    "import yfinance as yf\n",
    "\n",
    "history = pd.DataFrame()\n",
    "\n",
    "for ticker in tickers:\n",
    "    yf_ticker = yf.Ticker(ticker)\n",
    "    history[ticker] = yf_ticker.history(period=param[0], interval = param[1], auto_adjust = True)['Close']\n",
    "\n",
    "    col_shift = ticker + '_shifted'\n",
    "    history[col_shift] = history[ticker].shift(periods = 1,fill_value = 0, axis = 0)\n",
    "\n",
    "    col_ret = ticker + '_returns'\n",
    "    history[col_ret] = (history[col_shift] - history[ticker])/history[col_shift]\n",
    "    \n",
    "    history = history.drop(columns=[col_shift, ticker])\n",
    "    \n",
    "history.index = history.index.tz_localize(None)\n",
    "\n",
    "\n",
    "print(history)\n",
    "\n"
   ]
  },
  {
   "cell_type": "code",
   "execution_count": 207,
   "id": "6ac6496f",
   "metadata": {},
   "outputs": [],
   "source": [
    "#history.tail(-1).to_excel(r'MVO Assignment.xlsx', sheet_name='Returns', index=True)\n"
   ]
  },
  {
   "cell_type": "code",
   "execution_count": 208,
   "id": "a4327079",
   "metadata": {},
   "outputs": [],
   "source": [
    "import openpyxl\n",
    "wb = openpyxl.load_workbook('MVO Assignment.xlsx', data_only=True)\n",
    "sheet = wb['Returns']"
   ]
  },
  {
   "cell_type": "code",
   "execution_count": 214,
   "id": "ff0a7cc2",
   "metadata": {},
   "outputs": [],
   "source": [
    "sheet.delete_cols(1, 100000)\n",
    "sheet.delete_rows(1, 100000)\n",
    "\n",
    "\n",
    "columns = history.columns.values.tolist()\n",
    "sheet.cell(column=1, row=1).value = 'Time'\n",
    "\n",
    "\n",
    "\n",
    "for i, time in enumerate(history.index.values.tolist()):\n",
    "    if i==0:\n",
    "        pass\n",
    "    else:\n",
    "        sheet.cell(column=1, row=i+1).value = pd.to_datetime(time)\n",
    "\n",
    "\n",
    "for i, column in enumerate(columns):\n",
    "    \n",
    "    for j, value in enumerate(history[column].tolist()):\n",
    "        sheet.cell(column=i+2, row=j+1).value = value\n",
    "        \n",
    "for i, column in enumerate(columns):\n",
    "    sheet.cell(column=i+2, row=1).value = column\n",
    "\n",
    "wb.save('MVO Assignment.xlsx')"
   ]
  },
  {
   "cell_type": "code",
   "execution_count": 216,
   "id": "b513f9af",
   "metadata": {},
   "outputs": [
    {
     "name": "stderr",
     "output_type": "stream",
     "text": [
      "/var/folders/hg/kqg69xz568l28vnvcx6x09hh0000gn/T/ipykernel_94748/1659715124.py:3: FutureWarning: Calling a ufunc on non-aligned DataFrames (or DataFrame/Series combination). Currently, the indices are ignored and the result takes the index/columns of the first DataFrame. In the future , the DataFrames/Series will be aligned before applying the ufunc.\n",
      "Convert one of the arguments to a NumPy array (eg 'ufunc(df1, np.asarray(df2)') to keep the current behaviour, or align manually (eg 'df1, df2 = df1.align(df2)') before passing to the ufunc to obtain the future behaviour and silence this warning.\n",
      "  np.matmul(np.transpose(history.tail(-1)),history.tail(-1))\n"
     ]
    },
    {
     "data": {
      "text/html": [
       "<div>\n",
       "<style scoped>\n",
       "    .dataframe tbody tr th:only-of-type {\n",
       "        vertical-align: middle;\n",
       "    }\n",
       "\n",
       "    .dataframe tbody tr th {\n",
       "        vertical-align: top;\n",
       "    }\n",
       "\n",
       "    .dataframe thead th {\n",
       "        text-align: right;\n",
       "    }\n",
       "</style>\n",
       "<table border=\"1\" class=\"dataframe\">\n",
       "  <thead>\n",
       "    <tr style=\"text-align: right;\">\n",
       "      <th></th>\n",
       "      <th>0</th>\n",
       "      <th>1</th>\n",
       "      <th>2</th>\n",
       "      <th>3</th>\n",
       "    </tr>\n",
       "  </thead>\n",
       "  <tbody>\n",
       "    <tr>\n",
       "      <th>AAPL_returns</th>\n",
       "      <td>0.819747</td>\n",
       "      <td>0.195562</td>\n",
       "      <td>0.437924</td>\n",
       "      <td>0.273913</td>\n",
       "    </tr>\n",
       "    <tr>\n",
       "      <th>WMT_returns</th>\n",
       "      <td>0.195562</td>\n",
       "      <td>0.340039</td>\n",
       "      <td>0.132255</td>\n",
       "      <td>0.130475</td>\n",
       "    </tr>\n",
       "    <tr>\n",
       "      <th>QQQ_returns</th>\n",
       "      <td>0.437924</td>\n",
       "      <td>0.132255</td>\n",
       "      <td>0.357493</td>\n",
       "      <td>0.264177</td>\n",
       "    </tr>\n",
       "    <tr>\n",
       "      <th>CAT_returns</th>\n",
       "      <td>0.273913</td>\n",
       "      <td>0.130475</td>\n",
       "      <td>0.264177</td>\n",
       "      <td>0.820408</td>\n",
       "    </tr>\n",
       "  </tbody>\n",
       "</table>\n",
       "</div>"
      ],
      "text/plain": [
       "                     0         1         2         3\n",
       "AAPL_returns  0.819747  0.195562  0.437924  0.273913\n",
       "WMT_returns   0.195562  0.340039  0.132255  0.130475\n",
       "QQQ_returns   0.437924  0.132255  0.357493  0.264177\n",
       "CAT_returns   0.273913  0.130475  0.264177  0.820408"
      ]
     },
     "execution_count": 216,
     "metadata": {},
     "output_type": "execute_result"
    }
   ],
   "source": [
    "import numpy as np\n",
    "\n",
    "np.matmul(np.transpose(history.tail(-1)),history.tail(-1))/"
   ]
  },
  {
   "cell_type": "code",
   "execution_count": null,
   "id": "0d572fd7",
   "metadata": {},
   "outputs": [],
   "source": []
  }
 ],
 "metadata": {
  "kernelspec": {
   "display_name": "Python 3 (ipykernel)",
   "language": "python",
   "name": "python3"
  },
  "language_info": {
   "codemirror_mode": {
    "name": "ipython",
    "version": 3
   },
   "file_extension": ".py",
   "mimetype": "text/x-python",
   "name": "python",
   "nbconvert_exporter": "python",
   "pygments_lexer": "ipython3",
   "version": "3.10.9"
  }
 },
 "nbformat": 4,
 "nbformat_minor": 5
}
